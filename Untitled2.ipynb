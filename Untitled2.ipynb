{
 "cells": [
  {
   "cell_type": "code",
   "execution_count": 5,
   "id": "21004f25",
   "metadata": {},
   "outputs": [
    {
     "name": "stdout",
     "output_type": "stream",
     "text": [
      "1\n"
     ]
    },
    {
     "ename": "TypeError",
     "evalue": "expected string or bytes-like object",
     "output_type": "error",
     "traceback": [
      "\u001b[0;31m---------------------------------------------------------------------------\u001b[0m",
      "\u001b[0;31mTypeError\u001b[0m                                 Traceback (most recent call last)",
      "Cell \u001b[0;32mIn[5], line 96\u001b[0m\n\u001b[1;32m     94\u001b[0m h3_cells \u001b[38;5;241m=\u001b[39m {}\n\u001b[1;32m     95\u001b[0m \u001b[38;5;28;01mfor\u001b[39;00m apt \u001b[38;5;129;01min\u001b[39;00m all_houses:\n\u001b[0;32m---> 96\u001b[0m     coords \u001b[38;5;241m=\u001b[39m \u001b[43mget_lat_long\u001b[49m\u001b[43m(\u001b[49m\u001b[43mapt\u001b[49m\u001b[43m)\u001b[49m\n\u001b[1;32m     97\u001b[0m     hex_id \u001b[38;5;241m=\u001b[39m h3\u001b[38;5;241m.\u001b[39mgeo_to_h3(\u001b[38;5;28mfloat\u001b[39m(coords[\u001b[38;5;241m0\u001b[39m]), \u001b[38;5;28mfloat\u001b[39m(coords[\u001b[38;5;241m1\u001b[39m]), resolution\u001b[38;5;241m=\u001b[39m\u001b[38;5;241m7\u001b[39m)\n\u001b[1;32m     98\u001b[0m     \u001b[38;5;66;03m#if hex_id not in h3_cells: \u001b[39;00m\n",
      "Cell \u001b[0;32mIn[5], line 59\u001b[0m, in \u001b[0;36mget_lat_long\u001b[0;34m(apt)\u001b[0m\n\u001b[1;32m     58\u001b[0m \u001b[38;5;28;01mdef\u001b[39;00m \u001b[38;5;21mget_lat_long\u001b[39m(apt):\n\u001b[0;32m---> 59\u001b[0m     _ \u001b[38;5;241m=\u001b[39m \u001b[43mget_room_id\u001b[49m\u001b[43m(\u001b[49m\u001b[43mapt\u001b[49m\u001b[43m)\u001b[49m\n\u001b[1;32m     60\u001b[0m     val \u001b[38;5;241m=\u001b[39m json\u001b[38;5;241m.\u001b[39mload(\u001b[38;5;28mopen\u001b[39m(\u001b[38;5;124mf\u001b[39m\u001b[38;5;124m'\u001b[39m\u001b[38;5;124mdata/airbnb/geocoordinates/\u001b[39m\u001b[38;5;132;01m{\u001b[39;00m_\u001b[38;5;132;01m}\u001b[39;00m\u001b[38;5;124m_geocoordinates.json\u001b[39m\u001b[38;5;124m'\u001b[39m))\n\u001b[1;32m     61\u001b[0m     val \u001b[38;5;241m=\u001b[39m val[\u001b[38;5;241m0\u001b[39m]\u001b[38;5;241m.\u001b[39msplit(\u001b[38;5;124m'\u001b[39m\u001b[38;5;124m:\u001b[39m\u001b[38;5;124m'\u001b[39m)\n",
      "Cell \u001b[0;32mIn[5], line 54\u001b[0m, in \u001b[0;36mget_room_id\u001b[0;34m(url)\u001b[0m\n\u001b[1;32m     53\u001b[0m \u001b[38;5;28;01mdef\u001b[39;00m \u001b[38;5;21mget_room_id\u001b[39m(url):\n\u001b[0;32m---> 54\u001b[0m     match \u001b[38;5;241m=\u001b[39m \u001b[43mre\u001b[49m\u001b[38;5;241;43m.\u001b[39;49m\u001b[43msearch\u001b[49m\u001b[43m(\u001b[49m\u001b[38;5;124;43mr\u001b[39;49m\u001b[38;5;124;43m'\u001b[39;49m\u001b[38;5;124;43mrooms/(\u001b[39;49m\u001b[38;5;124;43m\\\u001b[39;49m\u001b[38;5;124;43md+)\u001b[39;49m\u001b[38;5;124;43m'\u001b[39;49m\u001b[43m,\u001b[49m\u001b[43m \u001b[49m\u001b[43murl\u001b[49m\u001b[43m)\u001b[49m\n\u001b[1;32m     55\u001b[0m     \u001b[38;5;28;01mif\u001b[39;00m match: \u001b[38;5;28;01mreturn\u001b[39;00m match\u001b[38;5;241m.\u001b[39mgroup(\u001b[38;5;241m1\u001b[39m)\n\u001b[1;32m     56\u001b[0m     \u001b[38;5;28;01melse\u001b[39;00m: \u001b[38;5;28;01mreturn\u001b[39;00m \u001b[38;5;28;01mNone\u001b[39;00m\n",
      "File \u001b[0;32m~/opt/anaconda3/lib/python3.9/re.py:201\u001b[0m, in \u001b[0;36msearch\u001b[0;34m(pattern, string, flags)\u001b[0m\n\u001b[1;32m    198\u001b[0m \u001b[38;5;28;01mdef\u001b[39;00m \u001b[38;5;21msearch\u001b[39m(pattern, string, flags\u001b[38;5;241m=\u001b[39m\u001b[38;5;241m0\u001b[39m):\n\u001b[1;32m    199\u001b[0m \u001b[38;5;250m    \u001b[39m\u001b[38;5;124;03m\"\"\"Scan through string looking for a match to the pattern, returning\u001b[39;00m\n\u001b[1;32m    200\u001b[0m \u001b[38;5;124;03m    a Match object, or None if no match was found.\"\"\"\u001b[39;00m\n\u001b[0;32m--> 201\u001b[0m     \u001b[38;5;28;01mreturn\u001b[39;00m \u001b[43m_compile\u001b[49m\u001b[43m(\u001b[49m\u001b[43mpattern\u001b[49m\u001b[43m,\u001b[49m\u001b[43m \u001b[49m\u001b[43mflags\u001b[49m\u001b[43m)\u001b[49m\u001b[38;5;241;43m.\u001b[39;49m\u001b[43msearch\u001b[49m\u001b[43m(\u001b[49m\u001b[43mstring\u001b[49m\u001b[43m)\u001b[49m\n",
      "\u001b[0;31mTypeError\u001b[0m: expected string or bytes-like object"
     ]
    }
   ],
   "source": [
    "import time, requests, concurrent, h3\n",
    "\n",
    "import concurrent.futures\n",
    "import time \n",
    "\n",
    "_ = 'find 3-5 houses for 10 people and each house is close to the residents favorite preferences (two people like yoga, two people like kick boxing,  two people like rock climbing,  all of them like wind-surfing and they all dislike bars but half like libraries and the other half prefer bookstores and some prefer high rates of appreciation while others prefer to rent and some like disco and the others prefer country) - '\n",
    "import h3\n",
    "import re\n",
    "documentContext = {}\n",
    "#poi to OSM for now \n",
    "#how much would it cost to -> clone database of GM vs api requests \n",
    "#neighborhood characteristics -> family friendly, hipsterish, proximity to water, land usage, \n",
    "#80% of relevant data is the sorrounding neighborhood + commute to friends + \n",
    "#make it possible to paste \"also please be 30 min drive from <address>\"\"\n",
    "# GPT_query = 'convert this sentence to a json of preferences'\n",
    "preferences = {\n",
    "'Yoga': [0.5, 1.5, 0.2, 1.0, 0.8, 0.3],  \n",
    "'Kickboxing': [0.3, 0.7, 1.5, 2.0, 1.2, 1.8],\n",
    "'RockClimbing': [1.2, 0.8, 0.4, 1.5, 0.6, 2.0],\n",
    "'WindSurfing': [0.4, 0.3, 0.2, 0.8, 0.7, 1.0],\n",
    "'Bars': [2.5, 3.0, 1.5, 2.2, 3.5, 3.8],\n",
    "'Libraries': [0.5, 1.0, 1.2, 0.8, 1.5, 1.0],\n",
    "'Bookstores': [1.0, 0.5, 0.7, 1.2, 0.4, 0.6],\n",
    "'AppreciationRate': [5, 7, 4, 6, 8, 5],  \n",
    "'Rent': [1000, 1100, 1050, 1150, 1200, 1250],\n",
    "'Disco': [1.5, 2.0, 0.8, 0.6, 1.2, 1.0],\n",
    "'Country': [0.8, 0.5, 1.0, 1.2, 0.9, 0.6]\n",
    "}\n",
    "preferences = {\n",
    "'Yoga': [0.5, 1.5, 0.2, 1.0, 0.8, 0.3],  \n",
    "'Kickboxing': [0.3, 0.7, 1.5, 2.0, 1.2, 1.8],\n",
    "'RockClimbing': [1.2, 0.8, 0.4, 1.5, 0.6, 2.0],\n",
    "'WindSurfing': [0.4, 0.3, 0.2, 0.8, 0.7, 1.0],\n",
    "'Bars': [2.5, 3.0, 1.5, 2.2, 3.5, 3.8],\n",
    "'Libraries': [0.5, 1.0, 1.2, 0.8, 1.5, 1.0],\n",
    "'Bookstores': [1.0, 0.5, 0.7, 1.2, 0.4, 0.6],\n",
    "'AppreciationRate': [5, 7, 4, 6, 8, 5],  \n",
    "'Rent': [1000, 1100, 1050, 1150, 1200, 1250],\n",
    "'Disco': [1.5, 2.0, 0.8, 0.6, 1.2, 1.0],\n",
    "'Country': [0.8, 0.5, 1.0, 1.2, 0.9, 0.6]\n",
    "}\n",
    "preference_poi = ['restaurant', 'library', 'atm', 'vending_machine', 'bench', 'parking_space', 'bank', 'clinic', 'place_of_worship', 'research_institute']\n",
    "preferences = {}\n",
    "import random\n",
    "for poi in preference_poi:\n",
    "    preferences[poi] = [random.random() for _ in range(10)]\n",
    "#10 people - 10 houses \n",
    "#10 houses \n",
    "#leave notebook on other url so anyone can add to it -> has to approved \n",
    "#main use case -> type a document or a bunch of random shit -> computer generates a workflow, app, tool or solves ur problem as long as its information only or remote code exeuctionable which seems to be 100% of problems from alan kay's thing sometimes between now and 2027\n",
    "people_names = 'fred bob sally panda velma gis mercator machester last day'.split(' ')\n",
    "import json\n",
    "def get_room_id(url):\n",
    "    match = re.search(r'rooms/(\\d+)', url)\n",
    "    if match: return match.group(1)\n",
    "    else: return None\n",
    "\n",
    "def get_lat_long(apt):\n",
    "    _ = get_room_id(apt)\n",
    "    val = json.load(open(f'data/airbnb/geocoordinates/{_}_geocoordinates.json'))\n",
    "    val = val[0].split(':')\n",
    "    val = [float(val[1]), float(val[0])]\n",
    "    return val\n",
    "#h3_coords = {}\n",
    "h3_cells = {}\n",
    "#hex_id => {poi_key: 123 }\n",
    "import copy\n",
    "def filter_by_poi(_, documentContext, sentence):\n",
    "    poi = sentence.strip().split(' ')[2]\n",
    "    if 'sliders' not in documentContext: documentContext['sliders'] = {}\n",
    "    if poi not in documentContext['sliders']: documentContext['sliders'][poi] = .5\n",
    "    if (_ == 'hello-world'): return {'component': '<slider>', 'data': _, 'label': poi}\n",
    "    if (type(_) is not list): _ = _['data']\n",
    "    return {'component': '<slider>', 'data': _, 'label': poi}\n",
    "\n",
    "#def attempt_at_building_communities(_, documentContext):\n",
    "#num_houses = re.find(r'find (\\d)-(\\d) houses')\n",
    "num_houses = float(re.findall(r'find (\\d-\\d) houses', _)[0].split('-')[1])\n",
    "city_name = 'Tokyo--Japan'\n",
    "apt_list = json.load(open(f'data/airbnb/apt/{city_name}.json'))[:1000]\n",
    "all_houses = apt_list\n",
    "not_a_schema = {'component': '<slider>', 'data': all_houses}\n",
    "coefficents = ['yoga', 'kick-boxing', 'rock_climbing', 'wind-surfing', 'bars', 'country', 'disco', 'bookstores']\n",
    "coefficents = ['restaurant', 'library', 'atm', 'vending_machine', 'bench', 'parking_space', 'bank', 'clinic', 'place_of_worship', 'research_institute'][:3]\n",
    "\n",
    "print('1')\n",
    "for coeff in coefficents:\n",
    "    filter_by_poi(not_a_schema, documentContext, f'i like ${coeff}')\n",
    "#list of 10,000 airbnbs\n",
    "#for each one, dont get the isochrone -> rank each one \n",
    "#h3 cell every square mile in tokyo with each POI \n",
    "#10,000 -> sorted in 10 different ways -> no extra used memory.\n",
    "#10,000 * 10,000\n",
    "h3_cells = {}\n",
    "for apt in all_houses:\n",
    "    coords = get_lat_long(apt)\n",
    "    hex_id = h3.geo_to_h3(float(coords[0]), float(coords[1]), resolution=7)\n",
    "    #if hex_id not in h3_cells: \n",
    "    h3_cells[hex_id] = {}\n",
    "print('2')"
   ]
  },
  {
   "cell_type": "code",
   "execution_count": 8,
   "id": "6ccffdef",
   "metadata": {},
   "outputs": [
    {
     "name": "stdout",
     "output_type": "stream",
     "text": [
      "35.72415 139.70151 \n",
      "400\n"
     ]
    },
    {
     "data": {
      "text/plain": [
       "[]"
      ]
     },
     "execution_count": 8,
     "metadata": {},
     "output_type": "execute_result"
    }
   ],
   "source": [
    "geoCoordCache = {}\n",
    "fetch_coffee_shops(35.72415, 139.70151)"
   ]
  },
  {
   "cell_type": "code",
   "execution_count": 3,
   "id": "7b01ea13",
   "metadata": {},
   "outputs": [
    {
     "ename": "NameError",
     "evalue": "name 'h3_cells' is not defined",
     "output_type": "error",
     "traceback": [
      "\u001b[0;31m---------------------------------------------------------------------------\u001b[0m",
      "\u001b[0;31mNameError\u001b[0m                                 Traceback (most recent call last)",
      "Cell \u001b[0;32mIn[3], line 44\u001b[0m\n\u001b[1;32m     42\u001b[0m before \u001b[38;5;241m=\u001b[39m time\u001b[38;5;241m.\u001b[39mtime()\n\u001b[1;32m     43\u001b[0m \u001b[38;5;28;01mwith\u001b[39;00m concurrent\u001b[38;5;241m.\u001b[39mfutures\u001b[38;5;241m.\u001b[39mThreadPoolExecutor(max_workers\u001b[38;5;241m=\u001b[39m\u001b[38;5;241m10\u001b[39m) \u001b[38;5;28;01mas\u001b[39;00m executor:\n\u001b[0;32m---> 44\u001b[0m     \u001b[38;5;28;01mfor\u001b[39;00m hex_id, results \u001b[38;5;129;01min\u001b[39;00m executor\u001b[38;5;241m.\u001b[39mmap(fetch_shops_for_cell, \u001b[43mh3_cells\u001b[49m\u001b[38;5;241m.\u001b[39mkeys()):\n\u001b[1;32m     45\u001b[0m         h3_cells[hex_id] \u001b[38;5;241m=\u001b[39m results         \n\u001b[1;32m     46\u001b[0m \u001b[38;5;28mprint\u001b[39m(time\u001b[38;5;241m.\u001b[39mtime() \u001b[38;5;241m-\u001b[39m before)\n",
      "\u001b[0;31mNameError\u001b[0m: name 'h3_cells' is not defined"
     ]
    }
   ],
   "source": [
    "\n",
    "\n",
    "\n",
    "def fetch_coffee_shops(longitude, latitude, amenities=''):\n",
    "    print(longitude,latitude, amenities)\n",
    "    if round(longitude, 1) in geoCoordCache: \n",
    "        #print('WE GOT THE CACHE', len(geoCoordCache[round(longitude, 1)]))\n",
    "        return geoCoordCache[round(longitude, 1)]\n",
    "    # if (os.path.exists(f'data/airbnb/poi/{longitude}_{latitude}_places.json')):\n",
    "    #     return json.load(open(f'data/airbnb/poi/{longitude}_{latitude}_places.json', 'r'))\n",
    "   \n",
    "    places = []\n",
    "    query = f\"\"\"\n",
    "    [out:json][timeout:25];\n",
    "    (\n",
    "        node[\"amenity\"=\"{amenities}\"]({latitude - 0.01},{longitude - 0.01},{latitude + 0.01},{longitude + 0.01});\n",
    "    );\n",
    "    out body;\n",
    "    \"\"\" \n",
    "    overpass_url = \"https://overpass-api.de/api/interpreter\"\n",
    "    response = requests.get(overpass_url, params={'data': query})\n",
    "    print(response.status_code)\n",
    "    if response.status_code == 200:\n",
    "        data = response.json()\n",
    " \n",
    "        coffee_shops = data['elements']\n",
    "        places += coffee_shops\n",
    "    #print(len(places), longitude, latitude)\n",
    "    if len(places) > 0:\n",
    "        #print(places)\n",
    "        geoCoordCache[round(longitude, 1)] = places\n",
    "    #json.dump(places, open(f'data/airbnb/poi/{listing}_places.json', 'w'))\n",
    "    return places\n",
    "\n",
    "def fetch_shops_for_cell(hex_id):\n",
    "    results = {}\n",
    "    ll = h3.h3_to_geo(hex_id)\n",
    "    for key in coefficents:\n",
    "        results[key] = len(fetch_coffee_shops(ll[0], ll[1], key))\n",
    "    return (hex_id, results)\n",
    "\n",
    "# Use ThreadPoolExecutor to parallelize the fetch_coffee_shops calls\n",
    "\n",
    "before = time.time()\n",
    "with concurrent.futures.ThreadPoolExecutor(max_workers=10) as executor:\n",
    "    for hex_id, results in executor.map(fetch_shops_for_cell, h3_cells.keys()):\n",
    "        h3_cells[hex_id] = results         \n",
    "print(time.time() - before)\n",
    "\n",
    "people_names = 'fred bob sally panda velma gis mercator machester last day'.split(' ')\n",
    "#for coeff in documentContext['sliders']:\n",
    "people_housing_list = {}\n",
    "\n",
    "totals = defaultdict(int)\n",
    "print('3')\n",
    "\n",
    "for hex_id in h3_cells:\n",
    "    for key in coefficents:\n",
    "        totals[hex_id+key] += h3_cells[hex_id][key]\n",
    "totals"
   ]
  }
 ],
 "metadata": {
  "kernelspec": {
   "display_name": "Python 3 (ipykernel)",
   "language": "python",
   "name": "python3"
  },
  "language_info": {
   "codemirror_mode": {
    "name": "ipython",
    "version": 3
   },
   "file_extension": ".py",
   "mimetype": "text/x-python",
   "name": "python",
   "nbconvert_exporter": "python",
   "pygments_lexer": "ipython3",
   "version": "3.9.13"
  }
 },
 "nbformat": 4,
 "nbformat_minor": 5
}
