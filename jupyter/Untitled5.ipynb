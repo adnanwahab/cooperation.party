{
 "cells": [
  {
   "cell_type": "code",
   "execution_count": 1,
   "id": "40b7e393-f327-4f1e-86f5-8d517a10c5b6",
   "metadata": {},
   "outputs": [
    {
     "name": "stdout",
     "output_type": "stream",
     "text": [
      "Error getting top players: 404\n"
     ]
    },
    {
     "ename": "NameError",
     "evalue": "name 'top_players_usernames' is not defined",
     "output_type": "error",
     "traceback": [
      "\u001b[0;31m---------------------------------------------------------------------------\u001b[0m",
      "\u001b[0;31mNameError\u001b[0m                                 Traceback (most recent call last)",
      "Cell \u001b[0;32mIn[1], line 20\u001b[0m\n\u001b[1;32m     17\u001b[0m     exit()\n\u001b[1;32m     19\u001b[0m \u001b[38;5;66;03m# Step 2: Get the rating history for the top player for the last 30 days\u001b[39;00m\n\u001b[0;32m---> 20\u001b[0m top_player_username \u001b[38;5;241m=\u001b[39m top_players_usernames[\u001b[38;5;241m0\u001b[39m]  \u001b[38;5;66;03m# Assuming the top player is at index 0\u001b[39;00m\n\u001b[1;32m     21\u001b[0m end_date \u001b[38;5;241m=\u001b[39m datetime\u001b[38;5;241m.\u001b[39mnow()\n\u001b[1;32m     22\u001b[0m start_date \u001b[38;5;241m=\u001b[39m end_date \u001b[38;5;241m-\u001b[39m timedelta(days\u001b[38;5;241m=\u001b[39m\u001b[38;5;241m30\u001b[39m)\n",
      "\u001b[0;31mNameError\u001b[0m: name 'top_players_usernames' is not defined"
     ]
    }
   ],
   "source": [
    "import requests\n",
    "import pandas as pd\n",
    "from datetime import datetime, timedelta\n",
    "\n",
    "# Step 1: Get the top 50 classical chess players\n",
    "top_players_url = \"https://lichess.org/player/top/50/classical\"\n",
    "response = requests.get(top_players_url)\n",
    "\n",
    "\n",
    "\n",
    "if response.status_code == 200:\n",
    "    top_players_data = response.json()\n",
    "    print(top_player_data)\n",
    "    top_players_usernames = [player[\"username\"] for player in top_players_data[\"users\"]]\n",
    "else:\n",
    "    print(\"Error getting top players:\", response.status_code)\n",
    "    exit()\n",
    "\n",
    "# Step 2: Get the rating history for the top player for the last 30 days\n",
    "top_player_username = top_players_usernames[0]  # Assuming the top player is at index 0\n",
    "end_date = datetime.now()\n",
    "start_date = end_date - timedelta(days=30)\n",
    "\n",
    "rating_history_url = f\"https://lichess.org/api/user/{top_player_username}/rating-history?perfType=classical&rated=true&since={start_date.timestamp()}&until={end_date.timestamp()}\"\n",
    "response = requests.get(rating_history_url)\n",
    "\n",
    "if response.status_code == 200:\n",
    "    rating_history_data = response.json()\n",
    "    rating_history = rating_history_data[top_player_username][\"points\"]\n",
    "    rating_dates = [datetime.fromtimestamp(item[\"date\"]) for item in rating_history]\n",
    "else:\n",
    "    print(\"Error getting rating history:\", response.status_code)\n",
    "    exit()\n",
    "\n",
    "# Step 3: Create a CSV file with the required information\n",
    "data = {\"Username\": [top_player_username] * 31,\n",
    "        \"Rating 30 Days Ago\": [rating_history[0][\"rating\"]] * 31,\n",
    "        \"Rating Today\": [rating_history[-1][\"rating\"]] * 31}\n",
    "\n",
    "for i in range(len(rating_history)):\n",
    "    data[f\"Rating {i} Days Ago\"] = [rating_history[i][\"rating\"]] * 31\n",
    "\n",
    "df = pd.DataFrame(data)\n",
    "df.to_csv(\"chess_ratings.csv\", index=False)\n",
    "print(\"CSV file created successfully.\")\n"
   ]
  },
  {
   "cell_type": "code",
   "execution_count": null,
   "id": "7a1eba0c-c832-4587-a275-9ba7f04d50e6",
   "metadata": {},
   "outputs": [],
   "source": []
  }
 ],
 "metadata": {
  "kernelspec": {
   "display_name": "Python 3 (ipykernel)",
   "language": "python",
   "name": "python3"
  },
  "language_info": {
   "codemirror_mode": {
    "name": "ipython",
    "version": 3
   },
   "file_extension": ".py",
   "mimetype": "text/x-python",
   "name": "python",
   "nbconvert_exporter": "python",
   "pygments_lexer": "ipython3",
   "version": "3.11.5"
  }
 },
 "nbformat": 4,
 "nbformat_minor": 5
}
