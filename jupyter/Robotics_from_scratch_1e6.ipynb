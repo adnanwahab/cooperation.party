{
 "cells": [
  {
   "cell_type": "raw",
   "id": "657fa09c-f6b1-4363-94a3-0af6d8079fb2",
   "metadata": {},
   "source": [
    "\n"
   ]
  },
  {
   "cell_type": "code",
   "execution_count": 1,
   "id": "f0bdbab8-8bcb-4f38-b159-d3ef60dabd52",
   "metadata": {},
   "outputs": [
    {
     "name": "stdout",
     "output_type": "stream",
     "text": [
      "hiielo\n"
     ]
    }
   ],
   "source": [
    "print('hiielo')"
   ]
  },
  {
   "cell_type": "code",
   "execution_count": 2,
   "id": "3e27c246-2bd7-42cf-97c3-6244ca1b038e",
   "metadata": {},
   "outputs": [
    {
     "name": "stdout",
     "output_type": "stream",
     "text": [
      "be the coding hero that could. dont be anything else for 90 days \n"
     ]
    }
   ],
   "source": [
    "print('be the coding hero that could. dont be anything else for 90 days ')"
   ]
  },
  {
   "cell_type": "code",
   "execution_count": null,
   "id": "fc6e19d7-8c28-4f5e-a6cd-82232ae95f5c",
   "metadata": {},
   "outputs": [],
   "source": []
  }
 ],
 "metadata": {
  "kernelspec": {
   "display_name": "Python 3 (ipykernel)",
   "language": "python",
   "name": "python3"
  },
  "language_info": {
   "codemirror_mode": {
    "name": "ipython",
    "version": 3
   },
   "file_extension": ".py",
   "mimetype": "text/x-python",
   "name": "python",
   "nbconvert_exporter": "python",
   "pygments_lexer": "ipython3",
   "version": "3.9.6"
  }
 },
 "nbformat": 4,
 "nbformat_minor": 5
}
